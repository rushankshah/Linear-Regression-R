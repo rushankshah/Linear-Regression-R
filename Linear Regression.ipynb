{
 "cells": [
  {
   "cell_type": "markdown",
   "id": "color-engagement",
   "metadata": {},
   "source": [
    "# Experiment 5"
   ]
  },
  {
   "cell_type": "markdown",
   "id": "center-continuity",
   "metadata": {},
   "source": [
    "**Read Data**"
   ]
  },
  {
   "cell_type": "code",
   "execution_count": 2,
   "id": "delayed-windsor",
   "metadata": {},
   "outputs": [],
   "source": [
    "data <- read.csv('e5.csv')"
   ]
  },
  {
   "cell_type": "markdown",
   "id": "approximate-confirmation",
   "metadata": {},
   "source": [
    "**View Data**"
   ]
  },
  {
   "cell_type": "code",
   "execution_count": 4,
   "id": "inappropriate-identification",
   "metadata": {},
   "outputs": [
    {
     "data": {
      "text/html": [
       "<table>\n",
       "<thead><tr><th scope=col>ï..Height</th><th scope=col>Weight</th></tr></thead>\n",
       "<tbody>\n",
       "\t<tr><td>63 </td><td>127</td></tr>\n",
       "\t<tr><td>64 </td><td>121</td></tr>\n",
       "\t<tr><td>66 </td><td>142</td></tr>\n",
       "\t<tr><td>69 </td><td>157</td></tr>\n",
       "\t<tr><td>69 </td><td>162</td></tr>\n",
       "\t<tr><td>71 </td><td>156</td></tr>\n",
       "\t<tr><td>71 </td><td>169</td></tr>\n",
       "\t<tr><td>72 </td><td>165</td></tr>\n",
       "\t<tr><td>73 </td><td>181</td></tr>\n",
       "\t<tr><td>75 </td><td>208</td></tr>\n",
       "</tbody>\n",
       "</table>\n"
      ],
      "text/latex": [
       "\\begin{tabular}{r|ll}\n",
       " ï..Height & Weight\\\\\n",
       "\\hline\n",
       "\t 63  & 127\\\\\n",
       "\t 64  & 121\\\\\n",
       "\t 66  & 142\\\\\n",
       "\t 69  & 157\\\\\n",
       "\t 69  & 162\\\\\n",
       "\t 71  & 156\\\\\n",
       "\t 71  & 169\\\\\n",
       "\t 72  & 165\\\\\n",
       "\t 73  & 181\\\\\n",
       "\t 75  & 208\\\\\n",
       "\\end{tabular}\n"
      ],
      "text/markdown": [
       "\n",
       "| ï..Height | Weight |\n",
       "|---|---|\n",
       "| 63  | 127 |\n",
       "| 64  | 121 |\n",
       "| 66  | 142 |\n",
       "| 69  | 157 |\n",
       "| 69  | 162 |\n",
       "| 71  | 156 |\n",
       "| 71  | 169 |\n",
       "| 72  | 165 |\n",
       "| 73  | 181 |\n",
       "| 75  | 208 |\n",
       "\n"
      ],
      "text/plain": [
       "   ï..Height Weight\n",
       "1  63        127   \n",
       "2  64        121   \n",
       "3  66        142   \n",
       "4  69        157   \n",
       "5  69        162   \n",
       "6  71        156   \n",
       "7  71        169   \n",
       "8  72        165   \n",
       "9  73        181   \n",
       "10 75        208   "
      ]
     },
     "metadata": {},
     "output_type": "display_data"
    }
   ],
   "source": [
    "data"
   ]
  },
  {
   "cell_type": "markdown",
   "id": "upper-appendix",
   "metadata": {},
   "source": [
    "**Get the values of slope and y-intercept**"
   ]
  },
  {
   "cell_type": "code",
   "execution_count": 7,
   "id": "forty-touch",
   "metadata": {},
   "outputs": [],
   "source": [
    "slope <- function(x, y){\n",
    "  mean_x <- mean(x)\n",
    "  mean_y <- mean(y)\n",
    "  nom <- sum((x - mean_x)*(y-mean_y))\n",
    "  denom <- sum((x - mean_x)^2)\n",
    "  m <- nom / denom\n",
    "  return(m)\n",
    "}\n",
    "\n",
    "intercept <- function(x, y, m){\n",
    "  b <- mean(y) - (m * mean(x))\n",
    "  return(b)\n",
    "}\n",
    "\n",
    "m = slope(data$ï..Height,data$Weight)\n",
    "b = intercept(data$ï..Height,data$Weight,m)"
   ]
  },
  {
   "cell_type": "code",
   "execution_count": 11,
   "id": "complex-salon",
   "metadata": {},
   "outputs": [
    {
     "data": {
      "text/html": [
       "6.13758146270818"
      ],
      "text/latex": [
       "6.13758146270818"
      ],
      "text/markdown": [
       "6.13758146270818"
      ],
      "text/plain": [
       "[1] 6.137581"
      ]
     },
     "metadata": {},
     "output_type": "display_data"
    }
   ],
   "source": [
    "m"
   ]
  },
  {
   "cell_type": "code",
   "execution_count": 12,
   "id": "excited-martin",
   "metadata": {},
   "outputs": [
    {
     "data": {
      "text/html": [
       "-266.534395365677"
      ],
      "text/latex": [
       "-266.534395365677"
      ],
      "text/markdown": [
       "-266.534395365677"
      ],
      "text/plain": [
       "[1] -266.5344"
      ]
     },
     "metadata": {},
     "output_type": "display_data"
    }
   ],
   "source": [
    "b"
   ]
  },
  {
   "cell_type": "markdown",
   "id": "running-public",
   "metadata": {},
   "source": [
    "**Plotting the graph**"
   ]
  },
  {
   "cell_type": "code",
   "execution_count": 15,
   "id": "applicable-property",
   "metadata": {},
   "outputs": [
    {
     "data": {
      "image/png": "[encoded data removed]",
      "text/plain": [
       "Plot with title \"Experiment 5\""
      ]
     },
     "metadata": {},
     "output_type": "display_data"
    }
   ],
   "source": [
    "plot(data$ï..Height,data$Weight, main = \"Experiment 5\", xlab = \"Height\", ylab = \"Weight\")\n",
    "abline(a = b, b = m)"
   ]
  },
  {
   "cell_type": "markdown",
   "id": "communist-lending",
   "metadata": {},
   "source": [
    "**Calculating the weight of the student given the height is 70 inches**"
   ]
  },
  {
   "cell_type": "code",
   "execution_count": 13,
   "id": "specified-display",
   "metadata": {},
   "outputs": [
    {
     "data": {
      "text/html": [
       "163.096307023896"
      ],
      "text/latex": [
       "163.096307023896"
      ],
      "text/markdown": [
       "163.096307023896"
      ],
      "text/plain": [
       "[1] 163.0963"
      ]
     },
     "metadata": {},
     "output_type": "display_data"
    }
   ],
   "source": [
    "w = m*70 + b\n",
    "w"
   ]
  }
 ],
 "metadata": {
  "kernelspec": {
   "display_name": "R",
   "language": "R",
   "name": "ir"
  },
  "language_info": {
   "codemirror_mode": "r",
   "file_extension": ".r",
   "mimetype": "text/x-r-source",
   "name": "R",
   "pygments_lexer": "r",
   "version": "3.6.1"
  }
 },
 "nbformat": 4,
 "nbformat_minor": 5
}
